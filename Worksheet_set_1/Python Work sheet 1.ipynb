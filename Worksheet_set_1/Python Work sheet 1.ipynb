{
 "cells": [
  {
   "cell_type": "code",
   "execution_count": 2,
   "id": "4a28e224",
   "metadata": {},
   "outputs": [
    {
     "name": "stdout",
     "output_type": "stream",
     "text": [
      "Enter a positive integer: 3\n",
      "The factorial of 3 is 6.\n"
     ]
    }
   ],
   "source": [
    "# 11. Write a python program to find the factorial of a number\n",
    "def factorial(n):  \n",
    "  if n == 0 or n == 1:\n",
    "    return 1\n",
    "  \n",
    "  else:\n",
    "    return n * factorial(n-1)\n",
    "\n",
    "# To input a number\n",
    "n = int(input(\"Enter a positive integer: \"))\n",
    "\n",
    "result = factorial(n)\n",
    "print(f\"The factorial of {n} is {result}.\")\n"
   ]
  },
  {
   "cell_type": "code",
   "execution_count": 6,
   "id": "af8919a4",
   "metadata": {},
   "outputs": [
    {
     "name": "stdout",
     "output_type": "stream",
     "text": [
      "Enter a Positive number:7\n",
      "7 is prime number\n"
     ]
    }
   ],
   "source": [
    "# 12. Write a python program to find whether a number is prime or composite.\n",
    "n = int(input(\"Enter a Positive number:\"))\n",
    "if n<=1:\n",
    "    print(n,\"is neither composite nor prime\")\n",
    "\n",
    "#Running the for loop\n",
    "for i in range(2,int(n**0.5)+1):\n",
    "    if n%i == 0:\n",
    "        print(n,\"is composite number\")\n",
    "        break\n",
    "    else:\n",
    "        print(n,\"is prime number\")\n",
    "\n"
   ]
  },
  {
   "cell_type": "code",
   "execution_count": 8,
   "id": "5a2bd3ee",
   "metadata": {},
   "outputs": [
    {
     "name": "stdout",
     "output_type": "stream",
     "text": [
      "Enter the string in lower case :level\n",
      "the given string is a palindrome\n"
     ]
    }
   ],
   "source": [
    "# 13. Write a python program to check whether a given string is palindrome or not.\n",
    "def palindrome(string):\n",
    "    rev_str = string[::-1]\n",
    "    \n",
    "    if string == rev_str:\n",
    "        return True\n",
    "    else:\n",
    "        return False\n",
    "    \n",
    "# now the input part\n",
    "string = input('Enter the string in lower case :')\n",
    "\n",
    "if palindrome(string):\n",
    "    print(\"the given string is a palindrome\")\n",
    "else:\n",
    "    print(\"the given string is not palindrome\")\n"
   ]
  },
  {
   "cell_type": "code",
   "execution_count": 10,
   "id": "9124be28",
   "metadata": {},
   "outputs": [
    {
     "name": "stdout",
     "output_type": "stream",
     "text": [
      "Enter the length of side 1 : 3\n",
      "Enter the length of side 2 : 4\n",
      "the length of third side of a right angled triangle is : 5.0\n"
     ]
    }
   ],
   "source": [
    "# 14. Write a Python program to get the third side of right-angled triangle from two given sides.\n",
    "side1 = float(input(\"Enter the length of side 1 : \"))\n",
    "side2 = float(input(\"Enter the length of side 2 : \"))\n",
    "\n",
    "# by using pythagoras formula\n",
    "side3 = (side1**2 + side2**2)**0.5\n",
    "print(\"the length of third side of a right angled triangle is :\",side3)"
   ]
  },
  {
   "cell_type": "code",
   "execution_count": 7,
   "id": "10bebd4c",
   "metadata": {},
   "outputs": [
    {
     "name": "stdout",
     "output_type": "stream",
     "text": [
      "Enter your stringhail hydra\n",
      "Character h appears 2 times.\n",
      "Character a appears 2 times.\n",
      "Character i appears 1 times.\n",
      "Character l appears 1 times.\n",
      "Character y appears 1 times.\n",
      "Character d appears 1 times.\n",
      "Character r appears 1 times.\n"
     ]
    }
   ],
   "source": [
    "# 15.Write a python program to print the frequency of each of the characters present in a given string.\n",
    "import re\n",
    "\n",
    "def char_freq(string):\n",
    "    frequency = {}\n",
    "    for char in re.findall(r\"\\w\",string):\n",
    "        if char in frequency:\n",
    "            frequency [char] +=1\n",
    "        else:\n",
    "                frequency[char]=1\n",
    "                \n",
    "    for char, count in frequency.items():\n",
    "        print(f\"Character {char} appears {count} times.\")\n",
    "        \n",
    "string = input(\"Enter your string\")\n",
    "char_freq(string)"
   ]
  },
  {
   "cell_type": "code",
   "execution_count": null,
   "id": "e787ad69",
   "metadata": {},
   "outputs": [],
   "source": []
  }
 ],
 "metadata": {
  "kernelspec": {
   "display_name": "Python 3 (ipykernel)",
   "language": "python",
   "name": "python3"
  },
  "language_info": {
   "codemirror_mode": {
    "name": "ipython",
    "version": 3
   },
   "file_extension": ".py",
   "mimetype": "text/x-python",
   "name": "python",
   "nbconvert_exporter": "python",
   "pygments_lexer": "ipython3",
   "version": "3.10.9"
  }
 },
 "nbformat": 4,
 "nbformat_minor": 5
}
